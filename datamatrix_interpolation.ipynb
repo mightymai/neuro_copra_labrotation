{
 "cells": [
  {
   "cell_type": "code",
   "execution_count": 1,
   "id": "676283a6",
   "metadata": {},
   "outputs": [],
   "source": [
    "import pandas as pd\n",
    "import datetime as dt\n",
    "import plotly.graph_objects as go\n",
    "import matplotlib.pyplot as plt\n",
    "from scipy.stats import zscore\n",
    "from scipy import stats\n",
    "import plotly.express as px\n",
    "import numpy as np\n",
    "import operator\n",
    "from sklearn.preprocessing import normalize\n",
    "import scipy.cluster.hierarchy as shc\n",
    "from sklearn.cluster import AgglomerativeClustering\n",
    "from sklearn.decomposition import PCA\n",
    "from sklearn.cluster import KMeans\n",
    "from sklearn.manifold import TSNE\n",
    "import umap.umap_ as umap\n",
    "import random\n",
    "import itertools\n",
    "import os \n",
    "from scipy import interpolate"
   ]
  },
  {
   "cell_type": "code",
   "execution_count": 14,
   "id": "acb44fdf",
   "metadata": {},
   "outputs": [
    {
     "data": {
      "text/plain": [
       "454378"
      ]
     },
     "execution_count": 14,
     "metadata": {},
     "output_type": "execute_result"
    }
   ],
   "source": [
    "df_test = pd.read_csv('./data/Daten_SAB_COPRA_2014.csv', error_bad_lines=False, warn_bad_lines=False, sep = ';', parse_dates=['Zeitstempel'])\n",
    "len(df_test)"
   ]
  },
  {
   "cell_type": "code",
   "execution_count": 13,
   "id": "332752ff",
   "metadata": {},
   "outputs": [],
   "source": [
    "def dataframe_znorm_differenz(dataframe):\n",
    "    \n",
    "    # identifier 'T' for Vitalwert and Labor --> change 'T' to 'Temperatur' for Labor\n",
    "    # then delete these values (don't make sense!)\n",
    "    dataframe.loc[(dataframe.Wertbezeichner=='T')&(dataframe.Kategorie=='Labor'), 'Wertbezeichner'] = 'Temperatur'\n",
    "    dataframe = dataframe[dataframe.Wertbezeichner!='Temperatur']\n",
    "    # apply z-normalization\n",
    "    dataframe['Wert_norm'] = None\n",
    "    dataframe.loc[dataframe.Kategorie=='Vitalwert', 'Wert_norm'] = dataframe[dataframe['Kategorie']=='Vitalwert'].groupby(['Wertbezeichner'])['Wert'].transform(lambda x : zscore(x,ddof=0))\n",
    "    dataframe.loc[dataframe.Kategorie=='Labor', 'Wert_norm'] = dataframe[dataframe['Kategorie']=='Labor'].groupby(['Wertbezeichner'])['Laborwert'].transform(lambda x : zscore(x,ddof=0)) \n",
    "    temp = dataframe[dataframe['Wertbezeichner']=='RR']['Mean']\n",
    "    dataframe.loc[dataframe.Wertbezeichner=='RR', 'Wert_norm'] = (temp - temp.mean())/temp.std(ddof=0)\n",
    "    \n",
    "    # get difference of 'Einfuhr' and 'Ausfuhr'\n",
    "    df_ein_temp = dataframe[dataframe['Wertbezeichner']=='Einfuhr']\n",
    "    df_ein = df_ein_temp['Wert'].astype(int)\n",
    "    df_aus_temp = dataframe[dataframe['Wertbezeichner']=='Ausfuhr']\n",
    "    df_aus = df_aus_temp['Wert'].astype(int)\n",
    "    \n",
    "    df_diff = df_ein.values - df_aus.values\n",
    "    dataframe['Differenz'] = None\n",
    "    dataframe.loc[dataframe.Wertbezeichner=='Einfuhr', 'Differenz'] = df_diff\n",
    "    dataframe.loc[dataframe.Wertbezeichner=='Ausfuhr', 'Differenz'] = -df_diff\n",
    "    dataframe['Differenz'] = dataframe['Differenz'].astype(float)\n",
    "    dataframe['Wert_norm'] = dataframe['Wert_norm'].astype(float)\n",
    "\n",
    "    return dataframe"
   ]
  },
  {
   "cell_type": "code",
   "execution_count": 14,
   "id": "96df15ce",
   "metadata": {},
   "outputs": [],
   "source": [
    "# there might be missing values (e.g. 2018)\n",
    "def check_bilanz(dataframe_list):\n",
    "    for df_index in range(len(dataframe_list)):\n",
    "        not_one_list = True\n",
    "        while not_one_list:\n",
    "            dataframe = dataframe_list[df_index]\n",
    "            df_ein_temp = dataframe[dataframe['Wertbezeichner']=='Einfuhr']\n",
    "            df_ein = df_ein_temp['Wert'].astype(int)\n",
    "            df_aus_temp = dataframe[dataframe['Wertbezeichner']=='Ausfuhr']\n",
    "            df_aus = df_aus_temp['Wert']\n",
    "            diff_index = [x1 - x2 for (x1, x2) in zip(list(df_ein.index), list(df_aus.index))]\n",
    "            not_one = [i for i in diff_index if i != 1]\n",
    "            if not_one != []:\n",
    "                first_difference = diff_index.index(not_one[0])\n",
    "                i = list(df_ein.index)[first_difference]\n",
    "                dataframe = dataframe.drop(i)\n",
    "                dataframe_list[df_index] = dataframe\n",
    "            else:\n",
    "                not_one_list = False\n",
    "    return dataframe_list"
   ]
  },
  {
   "cell_type": "code",
   "execution_count": 15,
   "id": "284f845e",
   "metadata": {},
   "outputs": [],
   "source": [
    "def get_cluster_matrix(df, cat='Vitalwert', days_interval=5, test_pat=34035669, hour=False, nan_to_zero=True):\n",
    "    x = None\n",
    "    # list of all the patient numbers in the given file df\n",
    "    patient_list = sorted(df.FallNr.unique())\n",
    "    # list of all the identifiers of category 'cat' in the given file df (sorted alphabetically)\n",
    "    ident_list = sorted(df[df.Kategorie==cat].Wertbezeichner.unique()) \n",
    "    if hour == True:\n",
    "        X = np.zeros((len(patient_list),len(ident_list)*days_interval*24))\n",
    "        hour_list = list(range(0,24))\n",
    "    else:\n",
    "        X = np.zeros((len(patient_list),len(ident_list)*days_interval))   \n",
    "    for pat in patient_list:\n",
    "        if list(patient_list).index(pat) % 50 == 0:\n",
    "            print(list(patient_list).index(pat), ' of ', len(patient_list))\n",
    "        df_pat = df[(df.FallNr==pat)&(df.Kategorie==cat)]\n",
    "        # get dataframe with date and identifier as multiindex and mean over values of corresponding column values\n",
    "        if cat=='Vitalwert' and hour==True:\n",
    "            interval_length = days_interval*24\n",
    "            # array where the data will be saved in (what we actually want)\n",
    "            df_pat_temp = df_pat.groupby([df_pat['Wertbezeichner'], df_pat['Zeitstempel'].dt.date, df_pat['Zeitstempel'].dt.hour]).mean()\n",
    "            \n",
    "            if pat == test_pat:\n",
    "                x = df_pat_temp\n",
    "            # date of first measurement\n",
    "            first_date = list(df_pat['Zeitstempel'].dt.date)[0] # frühestes Datum\n",
    "            # define 'maximal date' of interval of days we want to look at\n",
    "            last_date = first_date + dt.timedelta(days=days_interval-1)\n",
    "            # get list with all dates between first_date and last_date (even if not in df!)\n",
    "            # date_list = [first_date, first_date+1, first_date+2, first_date+3, last_date]\n",
    "            # even if e.g. at first_date+1 nothing was measured\n",
    "            date_list = [first_date + dt.timedelta(days=x) for x in range(days_interval)]\n",
    "            pat_ident = df_pat_temp.index.get_level_values(0).unique()\n",
    "           # all identifiers\n",
    "            if sorted(pat_ident) != sorted(ident_list):\n",
    "                diff = list(set(pat_ident).symmetric_difference(set(ident_list)))\n",
    "                for elem in diff:\n",
    "                    temp = list(itertools.chain.from_iterable(itertools.repeat(x, 24) for x in date_list))\n",
    "\n",
    "                    index = pd.MultiIndex.from_tuples(list(zip([elem]*days_interval*24, temp, hour_list*len(date_list))), names=[\"Wertbezeichner\", \"Zeitstempel\", \"Stunden\"])\n",
    "                    s = pd.DataFrame(np.zeros((days_interval*24, df_pat_temp.shape[1])), index=index) \n",
    "                    s[0] = np.array([pat]*days_interval*24)\n",
    "                    s = s.replace({0:np.nan})\n",
    "                    for da in date_list:\n",
    "                        for h in hour_list:\n",
    "                            df_pat_temp.loc[(elem, da, h), :] = s\n",
    "                df_pat_temp = df_pat_temp.sort_index()\n",
    "            value_list = []\n",
    "            for i in ident_list:\n",
    "                df_temp = df_pat_temp.loc[i].loc[first_date:last_date]\n",
    "                index_list_dates = []\n",
    "\n",
    "                for j in range(len(df_temp.index)):\n",
    "                    index_list_dates.append(df_temp.index[j][0])\n",
    "                index_list_dates = list(set(index_list_dates))\n",
    "\n",
    "                # all dates\n",
    "                if list(sorted(index_list_dates)) != sorted(date_list):\n",
    "                    temp = np.zeros(df_temp.shape[1])\n",
    "                    temp[0] = np.array([pat])\n",
    "                    diff = list(set(list(index_list_dates)).symmetric_difference(set(date_list)))\n",
    "                    for elem in diff:\n",
    "                        for h in hour_list:\n",
    "                            df_pat_temp.loc[(i, elem, h), :] = temp\n",
    "                    df_pat_temp = df_pat_temp.sort_index()\n",
    "                # all hours\n",
    "                for day in sorted(date_list):\n",
    "                    index_list_hours = list(df_pat_temp.loc[i].loc[day].index)\n",
    "                    if list(sorted(index_list_hours)) != sorted(hour_list):\n",
    "                        temp = np.zeros(df_temp.shape[1])\n",
    "                        temp[0] = np.array([pat])\n",
    "                        temp[temp==0] = np.nan\n",
    "                        diff = list(set(list(index_list_hours)).symmetric_difference(set(hour_list)))\n",
    "                        for h in diff:\n",
    "                            df_pat_temp.loc[(i, day, h), :] = temp\n",
    "                        df_pat_temp = df_pat_temp.sort_index()\n",
    "                df_temp = df_pat_temp.loc[i][first_date:last_date]['Wert_norm']\n",
    "                value_list.extend(df_temp)\n",
    "        else:\n",
    "            interval_length = days_interval\n",
    "\n",
    "            # array where the data will be saved in (what we actually want)\n",
    "            df_pat_temp = df_pat.groupby([df_pat['Wertbezeichner'], df_pat['Zeitstempel'].dt.date]).mean()\n",
    "            if pat == test_pat:\n",
    "                x = df_pat_temp\n",
    "            # date of first measurement\n",
    "            first_date = list(df_pat['Zeitstempel'].dt.date)[0] # frühestes Datum\n",
    "            # define 'maximal date' of interval of days we want to look at\n",
    "            last_date = first_date + dt.timedelta(days=days_interval-1)\n",
    "            # get list with all dates between first_date and last_date (even if not in df!)\n",
    "            # date_list = [first_date, first_date+1, first_date+2, first_date+3, last_date]\n",
    "            # even if e.g. at first_date+1 nothing was measured\n",
    "            date_list = [first_date + dt.timedelta(days=x) for x in range(days_interval)]\n",
    "            pat_ident = df_pat_temp.index.get_level_values(0).unique()\n",
    "\n",
    "            # all identifiers\n",
    "            if sorted(pat_ident) != sorted(ident_list):\n",
    "                diff = list(set(pat_ident).symmetric_difference(set(ident_list)))\n",
    "                for elem in diff:\n",
    "                    index = pd.MultiIndex.from_tuples(list(zip([elem]*days_interval, date_list)), names=[\"Wertbezeichner\", \"Zeitstempel\"])\n",
    "                    s = pd.DataFrame(np.zeros((days_interval, df_pat_temp.shape[1])), index=index) \n",
    "                    s[0] = np.array([pat]*days_interval)\n",
    "                    s = s.replace({0:np.nan})\n",
    "                    for da in date_list:\n",
    "                        df_pat_temp.loc[(elem, da), :] = s\n",
    "                df_pat_temp = df_pat_temp.sort_index()\n",
    "            value_list = []\n",
    "            for i in ident_list:\n",
    "                df_temp = df_pat_temp.loc[i].loc[first_date:last_date]\n",
    "                # all dates\n",
    "                if list(sorted(df_temp.index)) != sorted(date_list):\n",
    "                    temp = np.zeros(df_temp.shape[1])\n",
    "                    temp[0] = np.array([pat])\n",
    "                    temp[temp==0] = np.nan\n",
    "                    diff = list(set(list(df_temp.index)).symmetric_difference(set(date_list)))\n",
    "                    for elem in diff:\n",
    "                        df_pat_temp.loc[(i, elem), :] = temp\n",
    "                    df_pat_temp = df_pat_temp.sort_index()\n",
    "                    df_pat_temp = df_pat_temp.sort_index()\n",
    "                \n",
    "                df_temp = df_pat_temp.loc[i][first_date:last_date]['Wert_norm']\n",
    "                value_list.extend(df_temp)\n",
    "            \n",
    "        idx = list(patient_list).index(pat)\n",
    "        X[idx] = np.array(value_list)\n",
    "        for j in range(len(ident_list)):\n",
    "            y = X[idx][j*interval_length:j*interval_length+interval_length]\n",
    "            if not np.isnan(y).all():\n",
    "                nans, y_lambda = helper(y)\n",
    "                y[nans] = np.interp(y_lambda(nans), y_lambda(~nans), y[~nans])\n",
    "            \n",
    "    if nan_to_zero == True:\n",
    "        # replace all nans with zero!!!!!\n",
    "        X[np.isnan(X)] = 0\n",
    "    \n",
    "    \n",
    "    return X, x, ident_list"
   ]
  },
  {
   "cell_type": "code",
   "execution_count": 16,
   "id": "13f42ff3",
   "metadata": {},
   "outputs": [],
   "source": [
    "def remove_outliers(df):\n",
    "    print(df.shape)\n",
    "    # Temperatur: max 50°C, ging bis 3582°C\n",
    "    df = df.drop(df[(df.Wertbezeichner == 'T') & (df.Wert > 50)].index)\n",
    "    print(df.shape)\n",
    "    # RR: Mean: min=0, max=755, danach alles < 300. Ich droppe den einen extremen Ausreißer\n",
    "    df = df.drop(df[(df.Mean > 750)].index)\n",
    "    print(df.shape)\n",
    "    \n",
    "    # AF: zu wenig Ahnung. min=0, max=155, aber 30 gilt als erhöht, hier gibt es Werte 100+\n",
    "    # HF: zu wenig Ahnung. min=0, max=270\n",
    "    # HF_Pulsoxy: zu wenig Ahnung. min=22, max=300\n",
    "    # ICP: zu wenig Ahnung, min=-40, max=159\n",
    "    # SPO2: min = 5, max=100\n",
    "    return df"
   ]
  },
  {
   "cell_type": "code",
   "execution_count": 17,
   "id": "6a4c2427",
   "metadata": {},
   "outputs": [],
   "source": [
    "def save_file(file, filename):\n",
    "    name = filename + '_' + str(file.shape[0]) + '_'  + str(file.shape[1]) + '.txt'\n",
    "    a_file = open(name, 'w')\n",
    "    for row in file:\n",
    "        np.savetxt(a_file, row)\n",
    "\n",
    "    a_file.close()"
   ]
  },
  {
   "cell_type": "code",
   "execution_count": 18,
   "id": "afa8c341",
   "metadata": {},
   "outputs": [],
   "source": [
    "def helper(arr):\n",
    "    return np.isnan(arr), lambda a: a.nonzero()[0]"
   ]
  },
  {
   "cell_type": "code",
   "execution_count": 19,
   "id": "dc143611",
   "metadata": {},
   "outputs": [
    {
     "name": "stdout",
     "output_type": "stream",
     "text": [
      "Daten_SAB_COPRA_2016_modified_80.csv\n",
      "60\n",
      "Daten_SAB_COPRA_2015_modified_80.csv\n",
      "50\n",
      "Daten_SAB_COPRA_2018_modified_80.csv\n",
      "45\n",
      "Daten_SAB_COPRA_2017_modified_80.csv\n",
      "48\n",
      "Daten_SAB_COPRA_2014_modified_80.csv\n",
      "50\n",
      "Daten_SAB_COPRA_2019_modified_80.csv\n",
      "41\n",
      "6\n"
     ]
    }
   ],
   "source": [
    "path='./data/'\n",
    "df_list = []\n",
    "for file in os.listdir(path):\n",
    "    if '_modified_80' in file and '#' not in file and 'subset' not in file:\n",
    "        print(file)\n",
    "        with open(os.path.join(path, file), 'r+') as f:\n",
    "            df_temp = pd.read_csv(f, error_bad_lines=False, warn_bad_lines=False, sep = ';', parse_dates=['Zeitstempel'])\n",
    "            print(len(df_temp.FallNr.unique()))\n",
    "            df_list.append(df_temp)\n",
    "            \n",
    "print(len(df_list))"
   ]
  },
  {
   "cell_type": "code",
   "execution_count": 20,
   "id": "8a73d307",
   "metadata": {},
   "outputs": [
    {
     "name": "stdout",
     "output_type": "stream",
     "text": [
      "(1625833, 10)\n",
      "(1625827, 10)\n",
      "(1625826, 10)\n"
     ]
    }
   ],
   "source": [
    "df_list = check_bilanz(df_list)\n",
    "df = pd.concat(df_list)  \n",
    "df = df.reset_index(drop=True)\n",
    "df = remove_outliers(df)\n",
    "df = dataframe_znorm_differenz(df)"
   ]
  },
  {
   "cell_type": "code",
   "execution_count": 21,
   "id": "8246a657",
   "metadata": {},
   "outputs": [],
   "source": [
    "df.to_csv(path+'Daten_COPRA_all_subset_80_interpolation.csv', sep=';')"
   ]
  },
  {
   "cell_type": "code",
   "execution_count": 22,
   "id": "aa61403e",
   "metadata": {},
   "outputs": [
    {
     "name": "stdout",
     "output_type": "stream",
     "text": [
      "Daten_SAB_COPRA_2015_modified_20.csv\n",
      "67\n",
      "Daten_SAB_COPRA_2019_modified_20.csv\n",
      "59\n",
      "Daten_SAB_COPRA_2018_modified_20.csv\n",
      "67\n",
      "Daten_SAB_COPRA_2014_modified_20.csv\n",
      "68\n",
      "Daten_SAB_COPRA_2017_modified_20.csv\n",
      "66\n",
      "Daten_SAB_COPRA_2016_modified_20.csv\n",
      "90\n"
     ]
    }
   ],
   "source": [
    "path='./data/'\n",
    "df_list = []\n",
    "for file in os.listdir(path):\n",
    "    if ('_modified_20' in file) and ('#' not in file) and ('80' not in file):\n",
    "        print(file)\n",
    "        with open(os.path.join(path, file), 'r+') as f:\n",
    "            df_temp = pd.read_csv(f, error_bad_lines=False, warn_bad_lines=False, sep = ';', parse_dates=['Zeitstempel'])\n",
    "            print(len(df_temp.FallNr.unique()))\n",
    "            df_list.append(df_temp)"
   ]
  },
  {
   "cell_type": "code",
   "execution_count": 23,
   "id": "82e522d0",
   "metadata": {},
   "outputs": [
    {
     "data": {
      "text/plain": [
       "1607002"
      ]
     },
     "execution_count": 23,
     "metadata": {},
     "output_type": "execute_result"
    }
   ],
   "source": [
    "len(df)"
   ]
  },
  {
   "cell_type": "code",
   "execution_count": 24,
   "id": "1d770737",
   "metadata": {},
   "outputs": [
    {
     "data": {
      "text/plain": [
       "294"
      ]
     },
     "execution_count": 24,
     "metadata": {},
     "output_type": "execute_result"
    }
   ],
   "source": [
    "pat_list = df.FallNr.unique()\n",
    "len(pat_list)"
   ]
  },
  {
   "cell_type": "code",
   "execution_count": 25,
   "id": "dd7258c8",
   "metadata": {},
   "outputs": [],
   "source": [
    "days_interval = 5\n",
    "test_pat = random.choice(sorted(df.FallNr.unique()))"
   ]
  },
  {
   "cell_type": "markdown",
   "id": "2146d749",
   "metadata": {},
   "source": [
    "# Vitalwerte"
   ]
  },
  {
   "cell_type": "markdown",
   "id": "98b12cf8",
   "metadata": {},
   "source": [
    "all Patients, mean over day"
   ]
  },
  {
   "cell_type": "code",
   "execution_count": 26,
   "id": "8e1806f5",
   "metadata": {},
   "outputs": [
    {
     "name": "stdout",
     "output_type": "stream",
     "text": [
      "0  of  294\n",
      "50  of  294\n",
      "100  of  294\n",
      "150  of  294\n",
      "200  of  294\n",
      "250  of  294\n"
     ]
    }
   ],
   "source": [
    "X_vital_all_inter, x_vital_all_inter, vital_list_all_inter = get_cluster_matrix(df, days_interval=days_interval, test_pat=test_pat, hour=False)\n",
    "save_file(X_vital_all_inter, 'X_vital_all_inter')"
   ]
  },
  {
   "cell_type": "code",
   "execution_count": 27,
   "id": "fc3463b4",
   "metadata": {},
   "outputs": [
    {
     "name": "stdout",
     "output_type": "stream",
     "text": [
      "first dimension should be: 294 (= number of feasible patients)\n",
      "second dimension should be: 35 (= days_interval * number of identifiers for category Vitalwert)\n",
      "actual dimensuons are (294, 35)\n"
     ]
    }
   ],
   "source": [
    "print('first dimension should be:', len(pat_list), '(= number of feasible patients)')\n",
    "print('second dimension should be:', days_interval * len(df[df.Kategorie=='Vitalwert']['Wertbezeichner'].unique()), '(= days_interval * number of identifiers for category Vitalwert)')\n",
    "print('actual dimensuons are', X_vital_all_inter.shape)"
   ]
  },
  {
   "cell_type": "markdown",
   "id": "d7bf5106",
   "metadata": {},
   "source": [
    "all patients, mean over hours"
   ]
  },
  {
   "cell_type": "code",
   "execution_count": 28,
   "id": "d04f1ee5",
   "metadata": {},
   "outputs": [
    {
     "name": "stdout",
     "output_type": "stream",
     "text": [
      "0  of  294\n",
      "50  of  294\n",
      "100  of  294\n",
      "150  of  294\n",
      "200  of  294\n",
      "250  of  294\n"
     ]
    }
   ],
   "source": [
    "X_vital_all_hour_inter, x_vital_all_hour_inter, vital_list_all_hour_inter = get_cluster_matrix(df, days_interval=days_interval, test_pat=test_pat, hour=True)\n",
    "save_file(X_vital_all_hour_inter, 'X_vital_all_hour_inter')"
   ]
  },
  {
   "cell_type": "code",
   "execution_count": 29,
   "id": "bd909b86",
   "metadata": {},
   "outputs": [
    {
     "name": "stdout",
     "output_type": "stream",
     "text": [
      "first dimension should be: 294 (= number of feasible patients)\n",
      "second dimension should be: 840 (= days_interval * number of identifiers for category Vitalwert * hours in a day)\n",
      "actual dimensuons are (294, 840)\n"
     ]
    }
   ],
   "source": [
    "print('first dimension should be:', len(pat_list), '(= number of feasible patients)')\n",
    "print('second dimension should be:', days_interval * len(df[df.Kategorie=='Vitalwert']['Wertbezeichner'].unique()) * 24, '(= days_interval * number of identifiers for category Vitalwert * hours in a day)')\n",
    "print('actual dimensuons are', X_vital_all_hour_inter.shape)"
   ]
  },
  {
   "cell_type": "markdown",
   "id": "e4daeea1",
   "metadata": {},
   "source": [
    "# Laborwerte"
   ]
  },
  {
   "cell_type": "markdown",
   "id": "d2c81e47",
   "metadata": {},
   "source": [
    "all patients, mean over day"
   ]
  },
  {
   "cell_type": "code",
   "execution_count": 30,
   "id": "45c3c003",
   "metadata": {},
   "outputs": [
    {
     "name": "stdout",
     "output_type": "stream",
     "text": [
      "0  of  294\n",
      "50  of  294\n",
      "100  of  294\n",
      "150  of  294\n",
      "200  of  294\n",
      "250  of  294\n"
     ]
    }
   ],
   "source": [
    "X_labor_all_inter, x_labor_all_inter, labor_list_all_inter = get_cluster_matrix(df, cat='Labor', days_interval=days_interval, test_pat=test_pat, hour=False)\n",
    "save_file(X_labor_all_inter, 'X_labor_all_inter')"
   ]
  },
  {
   "cell_type": "code",
   "execution_count": 31,
   "id": "a51da95a",
   "metadata": {},
   "outputs": [
    {
     "name": "stdout",
     "output_type": "stream",
     "text": [
      "first dimension should be: 294 (= number of feasible patients)\n",
      "second dimension should be: 1910 (= days_interval * number of identifiers for category Labor)\n",
      "actual dimensuons are (294, 1910)\n"
     ]
    }
   ],
   "source": [
    "print('first dimension should be:', len(pat_list), '(= number of feasible patients)')\n",
    "print('second dimension should be:', days_interval * len(df[df.Kategorie=='Labor']['Wertbezeichner'].unique()), '(= days_interval * number of identifiers for category Labor)')\n",
    "print('actual dimensuons are', X_labor_all_inter.shape)"
   ]
  },
  {
   "cell_type": "markdown",
   "id": "68c605d4",
   "metadata": {},
   "source": [
    "all patients, mean over hours not very meaningful"
   ]
  },
  {
   "cell_type": "markdown",
   "id": "08fbb434",
   "metadata": {},
   "source": [
    "#### Stichprobentest"
   ]
  },
  {
   "cell_type": "code",
   "execution_count": null,
   "id": "79010365",
   "metadata": {},
   "outputs": [],
   "source": [
    "index = list(set(map(operator.itemgetter(0), x_vital_all[x_vital_all.FallNr==test_pat].index.tolist())))\n",
    "index = sorted(index)\n",
    "print(index)\n",
    "# note: some identifier might be missing (e.g. ICP for patient index)\n",
    "for i in index:\n",
    "    df_subset = x_vital_all[x_vital_all.FallNr==test_pat].loc[i]['Wert_norm'][:days_interval] #  = 5 \n",
    "    print(df_subset)"
   ]
  },
  {
   "cell_type": "code",
   "execution_count": null,
   "id": "aa032615",
   "metadata": {},
   "outputs": [],
   "source": [
    "i = sorted(df.FallNr.unique()).index(test_pat)\n",
    "X_vital_all[i]"
   ]
  },
  {
   "cell_type": "code",
   "execution_count": null,
   "id": "8143af6b",
   "metadata": {},
   "outputs": [],
   "source": []
  }
 ],
 "metadata": {
  "kernelspec": {
   "display_name": "Python 3",
   "language": "python",
   "name": "python3"
  },
  "language_info": {
   "codemirror_mode": {
    "name": "ipython",
    "version": 3
   },
   "file_extension": ".py",
   "mimetype": "text/x-python",
   "name": "python",
   "nbconvert_exporter": "python",
   "pygments_lexer": "ipython3",
   "version": "3.8.10"
  }
 },
 "nbformat": 4,
 "nbformat_minor": 5
}
